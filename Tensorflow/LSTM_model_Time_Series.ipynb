{
  "nbformat": 4,
  "nbformat_minor": 0,
  "metadata": {
    "colab": {
      "name": "Time Series.ipynb",
      "provenance": [],
      "collapsed_sections": []
    },
    "kernelspec": {
      "name": "python3",
      "display_name": "Python 3"
    },
    "accelerator": "TPU"
  },
  "cells": [
    {
      "cell_type": "markdown",
      "metadata": {
        "id": "4CqCOD3A8JFA",
        "colab_type": "text"
      },
      "source": [
        "Download the sample dataset from Keras Datasets.\n",
        "---\n",
        "wget function directly downloads the zip file.\n",
        "\n",
        "unzip to extract the file.\n",
        "\n",
        "Renamed to weather.csv file for further usage.\n"
      ]
    },
    {
      "cell_type": "code",
      "metadata": {
        "id": "5PF5pY4B7XC1",
        "colab_type": "code",
        "colab": {
          "base_uri": "https://localhost:8080/",
          "height": 238
        },
        "outputId": "f9918359-1116-4cd8-9dcd-a8b128a5d4b2"
      },
      "source": [
        "!wget https://storage.googleapis.com/tensorflow/tf-keras-datasets/jena_climate_2009_2016.csv.zip -O weather.zip\n",
        "!rm -rf sample_data\n",
        "!unzip weather.zip\n",
        "!rm weather.zip\n",
        "!mv jena_climate_2009_2016.csv weather.csv"
      ],
      "execution_count": 38,
      "outputs": [
        {
          "output_type": "stream",
          "text": [
            "--2020-02-12 15:56:54--  https://storage.googleapis.com/tensorflow/tf-keras-datasets/jena_climate_2009_2016.csv.zip\n",
            "Resolving storage.googleapis.com (storage.googleapis.com)... 172.217.212.128, 2607:f8b0:4001:c1c::80\n",
            "Connecting to storage.googleapis.com (storage.googleapis.com)|172.217.212.128|:443... connected.\n",
            "HTTP request sent, awaiting response... 200 OK\n",
            "Length: 13568290 (13M) [application/zip]\n",
            "Saving to: ‘weather.zip’\n",
            "\n",
            "\rweather.zip           0%[                    ]       0  --.-KB/s               \rweather.zip          61%[===========>        ]   8.01M  39.7MB/s               \rweather.zip         100%[===================>]  12.94M  52.3MB/s    in 0.2s    \n",
            "\n",
            "2020-02-12 15:56:54 (52.3 MB/s) - ‘weather.zip’ saved [13568290/13568290]\n",
            "\n",
            "Archive:  weather.zip\n",
            "  inflating: jena_climate_2009_2016.csv  \n"
          ],
          "name": "stdout"
        }
      ]
    },
    {
      "cell_type": "code",
      "metadata": {
        "id": "qjp8Hz04QGj3",
        "colab_type": "code",
        "colab": {
          "base_uri": "https://localhost:8080/",
          "height": 34
        },
        "outputId": "18b23dba-f2fb-4d97-a1b8-d841c5e5f10b"
      },
      "source": [
        "import pandas as pd\n",
        "import numpy as np\n",
        "import matplotlib.pyplot as plt\n",
        "%tensorflow_version 2.x\n",
        "import tensorflow as tf\n",
        "tf.__version__"
      ],
      "execution_count": 49,
      "outputs": [
        {
          "output_type": "execute_result",
          "data": {
            "text/plain": [
              "'2.1.0'"
            ]
          },
          "metadata": {
            "tags": []
          },
          "execution_count": 49
        }
      ]
    },
    {
      "cell_type": "code",
      "metadata": {
        "id": "fhtklwty9B2q",
        "colab_type": "code",
        "colab": {}
      },
      "source": [
        "data = pd.read_csv(\"weather.csv\")\n",
        "#data.head()"
      ],
      "execution_count": 0,
      "outputs": []
    },
    {
      "cell_type": "code",
      "metadata": {
        "id": "VXzUDBD1-oPa",
        "colab_type": "code",
        "colab": {}
      },
      "source": [
        "temp_data = data['T (degC)']\n",
        "temp_data.index = data['Date Time']"
      ],
      "execution_count": 0,
      "outputs": []
    },
    {
      "cell_type": "code",
      "metadata": {
        "id": "OWe1eyfBARRC",
        "colab_type": "code",
        "colab": {}
      },
      "source": [
        "#Split the dataset and get mean, standard deviation, and then standardize the temperature data\n",
        "\n",
        "split = 300000\n",
        "temp_data = temp_data.values\n",
        "\n",
        "temp_mean = temp_data[:split].mean()\n",
        "temp_stdv = temp_data[:split].std()\n",
        "temp_std = (temp_data - temp_mean) / temp_stdv\n"
      ],
      "execution_count": 0,
      "outputs": []
    },
    {
      "cell_type": "code",
      "metadata": {
        "id": "fjghEcTcCpzt",
        "colab_type": "code",
        "colab": {}
      },
      "source": [
        "past_data = 20\n",
        "target_data = 0\n",
        "\n",
        "data = []\n",
        "labels = []\n",
        "\n",
        "start_index = 0 + past_data\n",
        "end_index = split\n",
        "\n",
        "for i in range(start_index, end_index):\n",
        "  index = range(i-past_data, i)\n",
        "  data.append(np.reshape(temp_std[index], (past_data, 1)))\n",
        "  labels.append(temp_std[i+target_data])\n",
        "x,y = np.array(data), np.array(labels)"
      ],
      "execution_count": 0,
      "outputs": []
    },
    {
      "cell_type": "code",
      "metadata": {
        "id": "Z4NuERaA8BCb",
        "colab_type": "code",
        "colab": {}
      },
      "source": [
        "def create_time_steps(length):\n",
        "  return list(range(-length, 0))"
      ],
      "execution_count": 0,
      "outputs": []
    },
    {
      "cell_type": "code",
      "metadata": {
        "id": "Z-DJplWSJkv4",
        "colab_type": "code",
        "outputId": "4ebcec24-cb56-4033-e8f9-b43be1d80e46",
        "colab": {
          "base_uri": "https://localhost:8080/",
          "height": 312
        }
      },
      "source": [
        "plot_data = [x[0],y[0]]\n",
        "delta = 0\n",
        "labels = ['Previous data', 'Next Real Data', 'Model Prediction']\n",
        "marker = ['.-', 'rx', 'go']\n",
        "time_steps = create_time_steps(plot_data[0].shape[0])\n",
        "if delta:\n",
        "  future = delta\n",
        "else:\n",
        "  future = 0\n",
        "\n",
        "plt.title(\"Sample Example\")\n",
        "\n",
        "for i, xe in enumerate(plot_data):\n",
        "  if i:\n",
        "    plt.plot(future, plot_data[i], marker[i], markersize=10, label=labels[i])\n",
        "  else:\n",
        "    plt.plot(time_steps, plot_data[i].flatten(), marker[i], label=labels[i])\n",
        "plt.legend()\n",
        "plt.xlim([time_steps[0], (future+5)*2])\n",
        "plt.xlabel('Time-Step')\n"
      ],
      "execution_count": 68,
      "outputs": [
        {
          "output_type": "execute_result",
          "data": {
            "text/plain": [
              "Text(0.5, 0, 'Time-Step')"
            ]
          },
          "metadata": {
            "tags": []
          },
          "execution_count": 68
        },
        {
          "output_type": "display_data",
          "data": {
            "image/png": "[encoded data removed]",
            "text/plain": [
              "<Figure size 432x288 with 1 Axes>"
            ]
          },
          "metadata": {
            "tags": []
          }
        }
      ]
    },
    {
      "cell_type": "code",
      "metadata": {
        "colab_type": "code",
        "id": "VCNIZnk_wR0U",
        "colab": {}
      },
      "source": [
        "def baseline(history):\n",
        "  return np.mean(history)"
      ],
      "execution_count": 0,
      "outputs": []
    },
    {
      "cell_type": "code",
      "metadata": {
        "id": "aVFiccC61PiT",
        "colab_type": "code",
        "colab": {}
      },
      "source": [
        "train_univariate = tf.data.Dataset.from_tensor_slices((x, y))\n",
        "train_univariate = train_univariate.cache().shuffle(256).batch(10000).repeat()\n",
        "val_univariate = tf.data.Dataset.from_tensor_slices((x, y))\n",
        "val_univariate = val_univariate.batch(256).repeat()\n",
        "\n",
        "lstm = tf.keras.models.Sequential([tf.keras.layers.LSTM(8, input_shape=x.shape[-2:]), tf.keras.layers.Dense(1)])\n",
        "lstm.compile(optimizer='adam', loss='mae')"
      ],
      "execution_count": 0,
      "outputs": []
    },
    {
      "cell_type": "code",
      "metadata": {
        "id": "O1DydsoW3Z1V",
        "colab_type": "code",
        "colab": {
          "base_uri": "https://localhost:8080/",
          "height": 391
        },
        "outputId": "ec469aab-4060-44b1-f275-f8366a1d78bc"
      },
      "source": [
        "EVALUATION_INTERVAL = 1000\n",
        "EPOCHS = 10\n",
        "\n",
        "lstm.fit(train_univariate, epochs=EPOCHS, steps_per_epoch=EVALUATION_INTERVAL, validation_data=val_univariate, validation_steps=50)"
      ],
      "execution_count": 84,
      "outputs": [
        {
          "output_type": "stream",
          "text": [
            "Train for 1000 steps, validate for 50 steps\n",
            "Epoch 1/10\n",
            "1000/1000 [==============================] - 146s 146ms/step - loss: 0.0356 - val_loss: 0.0296\n",
            "Epoch 2/10\n",
            "1000/1000 [==============================] - 145s 145ms/step - loss: 0.0231 - val_loss: 0.0209\n",
            "Epoch 3/10\n",
            "1000/1000 [==============================] - 144s 144ms/step - loss: 0.0196 - val_loss: 0.0170\n",
            "Epoch 4/10\n",
            "1000/1000 [==============================] - 145s 145ms/step - loss: 0.0176 - val_loss: 0.0159\n",
            "Epoch 5/10\n",
            "1000/1000 [==============================] - 145s 145ms/step - loss: 0.0164 - val_loss: 0.0137\n",
            "Epoch 6/10\n",
            "1000/1000 [==============================] - 145s 145ms/step - loss: 0.0157 - val_loss: 0.0129\n",
            "Epoch 7/10\n",
            "1000/1000 [==============================] - 145s 145ms/step - loss: 0.0155 - val_loss: 0.0137\n",
            "Epoch 8/10\n",
            "1000/1000 [==============================] - 146s 146ms/step - loss: 0.0154 - val_loss: 0.0127\n",
            "Epoch 9/10\n",
            "1000/1000 [==============================] - 144s 144ms/step - loss: 0.0154 - val_loss: 0.0124\n",
            "Epoch 10/10\n",
            "1000/1000 [==============================] - 144s 144ms/step - loss: 0.0153 - val_loss: 0.0136\n"
          ],
          "name": "stdout"
        },
        {
          "output_type": "execute_result",
          "data": {
            "text/plain": [
              "<tensorflow.python.keras.callbacks.History at 0x7f7f8e5e4630>"
            ]
          },
          "metadata": {
            "tags": []
          },
          "execution_count": 84
        }
      ]
    },
    {
      "cell_type": "code",
      "metadata": {
        "id": "WUzv_bdS3lBl",
        "colab_type": "code",
        "colab": {
          "base_uri": "https://localhost:8080/",
          "height": 295
        },
        "outputId": "1b90f89b-dc7e-4198-d539-21894c83b27a"
      },
      "source": [
        "for xx, yy in val_univariate.take(3):\n",
        "  plot_data = [xx[0].numpy(), yy[0].numpy(), lstm.predict(xx)[0]]\n",
        "  delta = 0\n",
        "  labels = ['Previous data', 'Next Real Data', 'Predicted value']\n",
        "  marker = ['.-', 'rx', 'go']\n",
        "  time_steps = create_time_steps(plot_data[0].shape[0])\n",
        "  if delta:\n",
        "    future = delta\n",
        "  else:\n",
        "    future = 0\n",
        "\n",
        "  plt.title(\"LSTM Model\")\n",
        "  plt.plot(time_steps, plot_data[0].flatten(), marker[0], label=labels[0])\n",
        "  plt.plot(future, plot_data[1], marker[1], markersize=10, label=labels[1])\n",
        "  plt.plot(future, plot_data[2], marker[2], markersize=10, label=labels[2])  \n",
        "  #plt.legend()\n",
        "  plt.xlim([time_steps[0], (future+5)*2])\n",
        "  plt.xlabel('Time-Step')"
      ],
      "execution_count": 85,
      "outputs": [
        {
          "output_type": "display_data",
          "data": {
            "image/png": "[encoded data removed]",
            "text/plain": [
              "<Figure size 432x288 with 1 Axes>"
            ]
          },
          "metadata": {
            "tags": []
          }
        }
      ]
    }
  ]
}