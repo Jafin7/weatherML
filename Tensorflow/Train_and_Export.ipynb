{
  "nbformat": 4,
  "nbformat_minor": 0,
  "metadata": {
    "colab": {
      "name": "Train and Export.ipynb",
      "provenance": [],
      "collapsed_sections": []
    },
    "kernelspec": {
      "name": "python3",
      "display_name": "Python 3"
    },
    "accelerator": "GPU"
  },
  "cells": [
    {
      "cell_type": "code",
      "metadata": {
        "id": "EX_pGniSDGht",
        "colab_type": "code",
        "colab": {}
      },
      "source": [
        "from IPython.display import clear_output\n",
        "!rm -rf *\n",
        "!wget https://github.com/PvtSec/weatherML/raw/84eedf65cd5a4e2e089464a50e0b4c01d06fc719/Dataset/Delhi-Hourly/clean2.csv -O weather_data.csv\n",
        "!clear\n",
        "clear_output()\n",
        "!nvidia-smi -L"
      ],
      "execution_count": 0,
      "outputs": []
    },
    {
      "cell_type": "code",
      "metadata": {
        "id": "CmV7I7AqB1kK",
        "colab_type": "code",
        "colab": {}
      },
      "source": [
        "from scipy.ndimage.filters import gaussian_filter1d\n",
        "import matplotlib.pyplot as plt\n",
        "from pylab import rcParams\n",
        "import tensorflow as tf\n",
        "import pandas as pd\n",
        "import numpy as np\n",
        "import tempfile\n",
        "import os\n",
        "\n",
        "\n",
        "\n",
        "#set output graph diamension\n",
        "rcParams['figure.figsize'] = 20, 7\n",
        "\n",
        "data = pd.read_csv(\"weather_data.csv\")\n",
        "temp_data_init = data['temperature']\n",
        "temp_data_init.index = data['Index']\n",
        "\n",
        "split = 100000\n",
        "temp_data = temp_data_init.values\n",
        "temp_mean = temp_data[:split].mean()\n",
        "temp_stdv = temp_data[:split].std()\n",
        "temp_std = (temp_data - temp_mean) / temp_stdv\n",
        "\n",
        "\n",
        "past_data = 99000\n",
        "target_data = 0\n",
        "\n",
        "data = []\n",
        "labels = []\n",
        "\n",
        "start_index = 0 + past_data\n",
        "end_index = split\n",
        "\n",
        "for i in range(start_index, end_index):\n",
        "  index = range(i-past_data, i)\n",
        "  data.append(np.reshape(temp_std[index], (past_data, 1)))\n",
        "  labels.append(temp_std[i+target_data])\n",
        "x,y = np.array(data), np.array(labels)\n",
        "\n",
        "def create_time_steps(length):\n",
        "  return list(range(-length, 0))\n",
        "\n",
        "train_univariate = tf.data.Dataset.from_tensor_slices((x, y))\n",
        "train_univariate = train_univariate.cache().shuffle(256).batch(450).repeat()\n",
        "val_univariate = tf.data.Dataset.from_tensor_slices((x, y))\n",
        "val_univariate = val_univariate.batch(256).repeat()\n",
        "\n",
        "lstm = tf.keras.models.Sequential([tf.keras.layers.LSTM(8, input_shape=x.shape[-2:]), tf.keras.layers.Dense(1)])\n",
        "lstm.compile(optimizer='adam', loss='mae')"
      ],
      "execution_count": 0,
      "outputs": []
    },
    {
      "cell_type": "code",
      "metadata": {
        "id": "PdX3FYh11Svm",
        "colab_type": "code",
        "colab": {}
      },
      "source": [
        "EVALUATION_INTERVAL = 100\n",
        "EPOCHS = 5\n",
        "lstm.fit(train_univariate, epochs=EPOCHS, steps_per_epoch=EVALUATION_INTERVAL, validation_data=val_univariate, validation_steps=50)"
      ],
      "execution_count": 0,
      "outputs": []
    },
    {
      "cell_type": "code",
      "metadata": {
        "id": "cbX6wPl3C7ui",
        "colab_type": "code",
        "colab": {}
      },
      "source": [
        "for xx, yy in val_univariate.take(1):\n",
        "  print(xx)\n",
        "  plot_data = [xx[0].numpy(), yy[0].numpy()]\n",
        "  delta = 0\n",
        "  labels = ['Previous values', 'Next Real value', 'Predicted value']\n",
        "  marker = ['.-', 'rx', 'go']\n",
        "  time_steps = create_time_steps(plot_data[0].shape[0])\n",
        "  tymstp = time_steps\n",
        "  if delta:\n",
        "    future = delta\n",
        "  else:\n",
        "    future = 0\n",
        "  flatend_data = plot_data[0].flatten()"
      ],
      "execution_count": 0,
      "outputs": []
    },
    {
      "cell_type": "code",
      "metadata": {
        "id": "iPyPdNVVJCCj",
        "colab_type": "code",
        "colab": {}
      },
      "source": [
        "past=-10\n",
        "ysmoothed = gaussian_filter1d(flatend_data, sigma=2)\n",
        "\n",
        "xpoint = tymstp[past:]\n",
        "ypoint = flatend_data[past:]\n",
        "ysmoot = ysmoothed[past:]\n",
        "plt.plot(xpoint,ypoint)\n",
        "plt.plot(future, plot_data[1], marker[1], markersize=10, label=labels[1])\n",
        "plt.plot(future, plot_data[2], marker[2], markersize=10, label=labels[2])"
      ],
      "execution_count": 0,
      "outputs": []
    },
    {
      "cell_type": "code",
      "metadata": {
        "id": "iEThhduhJDwd",
        "colab_type": "code",
        "colab": {}
      },
      "source": [
        "std_real_future = plot_data[1]\n",
        "std_pred_future = plot_data[2][0]\n",
        "#convert standardized value back to temperature\n",
        "actual = abs((std_real_future * temp_stdv)+temp_mean)\n",
        "predicted = abs((std_pred_future * temp_stdv)+temp_mean)\n",
        "error = abs(round(((actual - predicted) / actual)*100,2))\n",
        "print(\"Actual    :\",round(actual,2),\"°C\")\n",
        "print(\"Predicted :\",round(predicted,2),\"°C\")\n",
        "print(\"Error     :\",error,\"%\")"
      ],
      "execution_count": 0,
      "outputs": []
    },
    {
      "cell_type": "code",
      "metadata": {
        "id": "rJ3m7dIQCxTS",
        "colab_type": "code",
        "colab": {}
      },
      "source": [
        "export_path = \"/content/agro_model\"\n",
        "print('export_path = {}\\n'.format(export_path))\n",
        "\n",
        "tf.keras.models.save_model(\n",
        "    lstm,\n",
        "    export_path,\n",
        "    overwrite=True,\n",
        "    include_optimizer=True,\n",
        "    save_format=None,\n",
        "    signatures=None,\n",
        "    options=None\n",
        ")\n",
        "\n",
        "print('\\nSaved model:')\n",
        "!zip -r agro_model.zip agro_model"
      ],
      "execution_count": 0,
      "outputs": []
    }
  ]
}