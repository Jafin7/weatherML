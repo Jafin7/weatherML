{
  "nbformat": 4,
  "nbformat_minor": 0,
  "metadata": {
    "colab": {
      "name": "Deploy Model.ipynb",
      "provenance": [],
      "collapsed_sections": []
    },
    "kernelspec": {
      "name": "python3",
      "display_name": "Python 3"
    },
    "accelerator": "GPU"
  },
  "cells": [
    {
      "cell_type": "code",
      "metadata": {
        "id": "4hDgWDzrphrN",
        "colab_type": "code",
        "colab": {}
      },
      "source": [
        "import IPython.display as ipd\n",
        "!rm -rf *\n",
        "!wget https://github.com/PvtSec/weatherML/raw/master/agro_model.zip -O model.zip\n",
        "!wget https://github.com/PvtSec/weatherML/raw/84eedf65cd5a4e2e089464a50e0b4c01d06fc719/Dataset/Delhi-Hourly/clean2.csv -O weather_data.csv\n",
        "!unzip model.zip\n",
        "!rm model.zip\n",
        "!clear\n",
        "ipd.clear_output()"
      ],
      "execution_count": 0,
      "outputs": []
    },
    {
      "cell_type": "code",
      "metadata": {
        "id": "OHjmJs0dptQf",
        "colab_type": "code",
        "colab": {}
      },
      "source": [
        "import tensorflow as tf\n",
        "from numpy import array"
      ],
      "execution_count": 0,
      "outputs": []
    },
    {
      "cell_type": "code",
      "metadata": {
        "id": "V1XOdH4gqBoe",
        "colab_type": "code",
        "colab": {}
      },
      "source": [
        "lstm = tf.keras.models.load_model('agro_model')"
      ],
      "execution_count": 0,
      "outputs": []
    },
    {
      "cell_type": "code",
      "metadata": {
        "id": "HQkqc4aa-RSV",
        "colab_type": "code",
        "colab": {}
      },
      "source": [
        "from scipy.ndimage.filters import gaussian_filter1d\n",
        "import matplotlib.pyplot as plt\n",
        "from pylab import rcParams\n",
        "import pandas as pd\n",
        "import numpy as np\n",
        "\n",
        "\n",
        "\n",
        "#set output graph diamension\n",
        "rcParams['figure.figsize'] = 10, 6\n",
        "\n",
        "data = pd.read_csv(\"weather_data.csv\")\n",
        "temp_data_init = data['temperature']\n",
        "temp_data_init.index = data['Index']\n",
        "\n",
        "split = 100000\n",
        "temp_data = temp_data_init.values\n",
        "temp_mean = temp_data[:split].mean()\n",
        "temp_stdv = temp_data[:split].std()\n",
        "temp_std = (temp_data - temp_mean) / temp_stdv\n",
        "\n",
        "\n",
        "past_data = 99000\n",
        "target_data = 0\n",
        "\n",
        "data = []\n",
        "labels = []\n",
        "\n",
        "start_index = 0 + past_data\n",
        "end_index = split\n",
        "\n",
        "for i in range(start_index, end_index):\n",
        "  index = range(i-past_data, i)\n",
        "  data.append(np.reshape(temp_std[index], (past_data, 1)))\n",
        "  labels.append(temp_std[i+target_data])\n",
        "x,y = np.array(data), np.array(labels)\n",
        "\n",
        "train_univariate = tf.data.Dataset.from_tensor_slices((x, y))\n",
        "train_univariate = train_univariate.cache().shuffle(256).batch(450).repeat()\n",
        "val_univariate = tf.data.Dataset.from_tensor_slices((x, y))\n",
        "val_univariate = val_univariate.batch(256).repeat()"
      ],
      "execution_count": 0,
      "outputs": []
    },
    {
      "cell_type": "code",
      "metadata": {
        "id": "PkmeKbuL-ts7",
        "colab_type": "code",
        "colab": {}
      },
      "source": [
        "for xx, yy in val_univariate.take(1):\n",
        "  plot_data = [xx[0].numpy(), yy[0].numpy(), lstm.predict(xx)[0]]"
      ],
      "execution_count": 0,
      "outputs": []
    },
    {
      "cell_type": "code",
      "metadata": {
        "id": "Gfh0ntoV-yxy",
        "colab_type": "code",
        "colab": {}
      },
      "source": [
        "std_real_future = plot_data[1]\n",
        "std_pred_future = plot_data[2][0]\n",
        "\n",
        "#convert standardized value back to temperature\n",
        "actual = abs((std_real_future * temp_stdv)+temp_mean)\n",
        "predicted = abs((std_pred_future * temp_stdv)+temp_mean)\n",
        "error = abs(round(((actual - predicted) / actual)*100,2))\n",
        "print(\"Actual    :\",round(actual,2),\"°C\")\n",
        "print(\"Predicted :\",round(predicted,2),\"°C\")\n",
        "print(\"Error     :\",error,\"%\")"
      ],
      "execution_count": 0,
      "outputs": []
    }
  ]
}