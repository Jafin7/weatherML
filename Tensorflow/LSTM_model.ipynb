{
  "nbformat": 4,
  "nbformat_minor": 0,
  "metadata": {
    "colab": {
      "name": "Time Series.ipynb",
      "provenance": [],
      "collapsed_sections": []
    },
    "kernelspec": {
      "name": "python3",
      "display_name": "Python 3"
    },
    "accelerator": "GPU"
  },
  "cells": [
    {
      "cell_type": "code",
      "metadata": {
        "colab_type": "code",
        "id": "UOyfIAJECUKy",
        "outputId": "64ac6bb8-4182-4900-8220-51e8cf96693c",
        "colab": {
          "base_uri": "https://localhost:8080/",
          "height": 54
        }
      },
      "source": [
        "'''\n",
        "#Download sample datset from keras\n",
        "!wget https://storage.googleapis.com/tensorflow/tf-keras-datasets/jena_climate_2009_2016.csv.zip -O weather.zip\n",
        "!rm -rf sample_data\n",
        "!unzip weather.zip\n",
        "!rm weather.zip\n",
        "!mv jena_climate_2009_2016.csv weather.csv\n",
        "'''"
      ],
      "execution_count": 1,
      "outputs": [
        {
          "output_type": "execute_result",
          "data": {
            "text/plain": [
              "'\\n#Download sample datset from keras\\n!wget https://storage.googleapis.com/tensorflow/tf-keras-datasets/jena_climate_2009_2016.csv.zip -O weather.zip\\n!rm -rf sample_data\\n!unzip weather.zip\\n!rm weather.zip\\n!mv jena_climate_2009_2016.csv weather.csv\\n'"
            ]
          },
          "metadata": {
            "tags": []
          },
          "execution_count": 1
        }
      ]
    },
    {
      "cell_type": "code",
      "metadata": {
        "id": "1Rfc5kuanS02",
        "colab_type": "code",
        "colab": {}
      },
      "source": [
        "from IPython.display import clear_output\n",
        "!rm -rf *\n",
        "!wget https://github.com/PvtSec/weatherML/raw/master/weather_data.csv -O weather_data.csv\n",
        "!clear\n",
        "clear_output()"
      ],
      "execution_count": 0,
      "outputs": []
    },
    {
      "cell_type": "code",
      "metadata": {
        "id": "qjp8Hz04QGj3",
        "colab_type": "code",
        "outputId": "9195e014-7dbf-4ef8-8c58-49e3def800d8",
        "colab": {
          "base_uri": "https://localhost:8080/",
          "height": 34
        }
      },
      "source": [
        "import pandas as pd\n",
        "import numpy as np\n",
        "import matplotlib.pyplot as plt\n",
        "%tensorflow_version 2.x\n",
        "import tensorflow as tf"
      ],
      "execution_count": 3,
      "outputs": [
        {
          "output_type": "stream",
          "text": [
            "TensorFlow 2.x selected.\n"
          ],
          "name": "stdout"
        }
      ]
    },
    {
      "cell_type": "code",
      "metadata": {
        "id": "fhtklwty9B2q",
        "colab_type": "code",
        "colab": {}
      },
      "source": [
        "data = pd.read_csv(\"weather_data.csv\")\n",
        "#data.head()"
      ],
      "execution_count": 0,
      "outputs": []
    },
    {
      "cell_type": "code",
      "metadata": {
        "id": "VXzUDBD1-oPa",
        "colab_type": "code",
        "colab": {}
      },
      "source": [
        "temp_data = data['Temperature']\n",
        "temp_data.index = data['Sl']"
      ],
      "execution_count": 0,
      "outputs": []
    },
    {
      "cell_type": "code",
      "metadata": {
        "id": "OWe1eyfBARRC",
        "colab_type": "code",
        "colab": {}
      },
      "source": [
        "#Split the dataset and get mean, standard deviation, and then standardize the temperature data\n",
        "\n",
        "split = 288\n",
        "temp_data = temp_data.values\n",
        "\n",
        "temp_mean = temp_data[:split].mean()\n",
        "temp_stdv = temp_data[:split].std()\n",
        "temp_std = (temp_data - temp_mean) / temp_stdv\n"
      ],
      "execution_count": 0,
      "outputs": []
    },
    {
      "cell_type": "code",
      "metadata": {
        "id": "fjghEcTcCpzt",
        "colab_type": "code",
        "colab": {}
      },
      "source": [
        "past_data = 20\n",
        "target_data = 0\n",
        "\n",
        "data = []\n",
        "labels = []\n",
        "\n",
        "start_index = 0 + past_data\n",
        "end_index = split\n",
        "\n",
        "for i in range(start_index, end_index):\n",
        "  index = range(i-past_data, i)\n",
        "  data.append(np.reshape(temp_std[index], (past_data, 1)))\n",
        "  labels.append(temp_std[i+target_data])\n",
        "x,y = np.array(data), np.array(labels)"
      ],
      "execution_count": 0,
      "outputs": []
    },
    {
      "cell_type": "code",
      "metadata": {
        "id": "Z4NuERaA8BCb",
        "colab_type": "code",
        "colab": {}
      },
      "source": [
        "def create_time_steps(length):\n",
        "  return list(range(-length, 0))"
      ],
      "execution_count": 0,
      "outputs": []
    },
    {
      "cell_type": "code",
      "metadata": {
        "id": "Z-DJplWSJkv4",
        "colab_type": "code",
        "outputId": "fa4a9efa-872f-4565-d2ab-402995dd108e",
        "colab": {
          "base_uri": "https://localhost:8080/",
          "height": 312
        }
      },
      "source": [
        "plot_data = [x[0],y[0]]\n",
        "delta = 0\n",
        "labels = ['Previous data', 'Next Real Data', 'Model Prediction']\n",
        "marker = ['.-', 'rx', 'go']\n",
        "time_steps = create_time_steps(plot_data[0].shape[0])\n",
        "if delta:\n",
        "  future = delta\n",
        "else:\n",
        "  future = 0\n",
        "\n",
        "plt.title(\"Sample Example\")\n",
        "\n",
        "for i, xe in enumerate(plot_data):\n",
        "  if i:\n",
        "    plt.plot(future, plot_data[i], marker[i], markersize=10, label=labels[i])\n",
        "  else:\n",
        "    plt.plot(time_steps, plot_data[i].flatten(), marker[i], label=labels[i])\n",
        "plt.legend()\n",
        "plt.xlim([time_steps[0], (future+5)*2])\n",
        "plt.xlabel('Time-Step')\n",
        "#View the last point if previous data and the next real data : convert back to original value\n",
        "#print(((plot_data[0].flatten()[19])*temp_stdv) + temp_mean)\n",
        "#print(((plot_data[1])*temp_stdv) + temp_mean)"
      ],
      "execution_count": 9,
      "outputs": [
        {
          "output_type": "execute_result",
          "data": {
            "text/plain": [
              "Text(0.5, 0, 'Time-Step')"
            ]
          },
          "metadata": {
            "tags": []
          },
          "execution_count": 9
        },
        {
          "output_type": "display_data",
          "data": {
            "image/png": "[encoded data removed]",
            "text/plain": [
              "<Figure size 432x288 with 1 Axes>"
            ]
          },
          "metadata": {
            "tags": []
          }
        }
      ]
    },
    {
      "cell_type": "code",
      "metadata": {
        "colab_type": "code",
        "id": "VCNIZnk_wR0U",
        "colab": {}
      },
      "source": [
        "def baseline(history):\n",
        "  return np.mean(history)"
      ],
      "execution_count": 0,
      "outputs": []
    },
    {
      "cell_type": "code",
      "metadata": {
        "id": "aVFiccC61PiT",
        "colab_type": "code",
        "colab": {}
      },
      "source": [
        "train_univariate = tf.data.Dataset.from_tensor_slices((x, y))\n",
        "train_univariate = train_univariate.cache().shuffle(256).batch(10000).repeat()\n",
        "val_univariate = tf.data.Dataset.from_tensor_slices((x, y))\n",
        "val_univariate = val_univariate.batch(256).repeat()\n",
        "\n",
        "lstm = tf.keras.models.Sequential([tf.keras.layers.LSTM(8, input_shape=x.shape[-2:]), tf.keras.layers.Dense(1)])\n",
        "lstm.compile(optimizer='adam', loss='mae')"
      ],
      "execution_count": 0,
      "outputs": []
    },
    {
      "cell_type": "code",
      "metadata": {
        "id": "O1DydsoW3Z1V",
        "colab_type": "code",
        "colab": {}
      },
      "source": [
        "EVALUATION_INTERVAL = 1000\n",
        "EPOCHS = 100\n",
        "\n",
        "lstm.fit(train_univariate, epochs=EPOCHS, steps_per_epoch=EVALUATION_INTERVAL, validation_data=val_univariate, validation_steps=50)"
      ],
      "execution_count": 0,
      "outputs": []
    },
    {
      "cell_type": "code",
      "metadata": {
        "id": "WUzv_bdS3lBl",
        "colab_type": "code",
        "outputId": "dfff4b30-9e0f-4cbc-e51b-687d7d7566ed",
        "colab": {
          "base_uri": "https://localhost:8080/",
          "height": 295
        }
      },
      "source": [
        "for xx, yy in val_univariate.take(1):\n",
        "  plot_data = [xx[0].numpy(), yy[0].numpy(), lstm.predict(xx)[0]]\n",
        "  delta = 0\n",
        "  labels = ['Previous values', 'Next Real value', 'Predicted value']\n",
        "  marker = ['.-', 'rx', 'go']\n",
        "  time_steps = create_time_steps(plot_data[0].shape[0])\n",
        "  if delta:\n",
        "    future = delta\n",
        "  else:\n",
        "    future = 0\n",
        "\n",
        "  plt.title(\"LSTM Model\")\n",
        "  plt.plot(time_steps, plot_data[0].flatten(), marker[0], label=labels[0])\n",
        "  plt.plot(future, plot_data[1], marker[1], markersize=10, label=labels[1])\n",
        "  plt.plot(future, plot_data[2], marker[2], markersize=10, label=labels[2])  \n",
        "  plt.legend()\n",
        "  plt.xlim([time_steps[0], (future+5)*2])\n",
        "  plt.xlabel('Time-Step')\n"
      ],
      "execution_count": 17,
      "outputs": [
        {
          "output_type": "display_data",
          "data": {
            "image/png": "[encoded data removed]",
            "text/plain": [
              "<Figure size 432x288 with 1 Axes>"
            ]
          },
          "metadata": {
            "tags": []
          }
        }
      ]
    },
    {
      "cell_type": "code",
      "metadata": {
        "id": "C4RpzdTMXXvB",
        "colab_type": "code",
        "outputId": "53e192ef-c6a7-4554-adc7-983dfca48749",
        "colab": {
          "base_uri": "https://localhost:8080/",
          "height": 67
        }
      },
      "source": [
        "std_real_future = plot_data[1]\n",
        "std_pred_future = plot_data[2][0]\n",
        "#convert standardized value back to temperature\n",
        "actual = abs((std_real_future * temp_stdv)+temp_mean)\n",
        "predicted = abs((std_pred_future * temp_stdv)+temp_mean)\n",
        "error = abs(round(((actual - predicted) / actual)*100,2))\n",
        "print(\"Actual    :\",round(actual,2),\"°C\")\n",
        "print(\"Predicted :\",round(predicted,2),\"°C\")\n",
        "print(\"Error     :\",error,\"%\")"
      ],
      "execution_count": 14,
      "outputs": [
        {
          "output_type": "stream",
          "text": [
            "Actual    : 64.27 °C\n",
            "Predicted : 63.72 °C\n",
            "Error     : 0.85 %\n"
          ],
          "name": "stdout"
        }
      ]
    }
  ]
}