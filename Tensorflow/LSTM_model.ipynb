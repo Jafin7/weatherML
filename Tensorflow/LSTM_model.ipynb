{
  "nbformat": 4,
  "nbformat_minor": 0,
  "metadata": {
    "colab": {
      "name": "ML Model.ipynb",
      "provenance": [],
      "collapsed_sections": []
    },
    "kernelspec": {
      "name": "python3",
      "display_name": "Python 3"
    },
    "accelerator": "TPU"
  },
  "cells": [
    {
      "cell_type": "code",
      "metadata": {
        "colab_type": "code",
        "id": "UOyfIAJECUKy",
        "colab": {}
      },
      "source": [
        "# #Download sample datset from keras\n",
        "# !rm -rf *\n",
        "# !wget https://storage.googleapis.com/tensorflow/tf-keras-datasets/jena_climate_2009_2016.csv.zip -O weather.zip\n",
        "# !unzip weather.zip\n",
        "# !rm weather.zip\n",
        "# !mv jena_climate_2009_2016.csv weather.csv\n",
        "# clear_output()"
      ],
      "execution_count": 0,
      "outputs": []
    },
    {
      "cell_type": "code",
      "metadata": {
        "id": "1Rfc5kuanS02",
        "colab_type": "code",
        "colab": {}
      },
      "source": [
        "from IPython.display import clear_output\n",
        "!rm -rf *\n",
        "!wget https://github.com/PvtSec/weatherML/raw/84eedf65cd5a4e2e089464a50e0b4c01d06fc719/Dataset/Delhi-Hourly/clean2.csv -O weather_data.csv\n",
        "!clear\n",
        "clear_output()"
      ],
      "execution_count": 0,
      "outputs": []
    },
    {
      "cell_type": "code",
      "metadata": {
        "id": "qjp8Hz04QGj3",
        "colab_type": "code",
        "colab": {}
      },
      "source": [
        "import pandas as pd\n",
        "import numpy as np\n",
        "import matplotlib.pyplot as plt\n",
        "%tensorflow_version 2.x\n",
        "import tensorflow as tf"
      ],
      "execution_count": 0,
      "outputs": []
    },
    {
      "cell_type": "code",
      "metadata": {
        "id": "fhtklwty9B2q",
        "colab_type": "code",
        "colab": {}
      },
      "source": [
        "data = pd.read_csv(\"weather_data.csv\")\n",
        "data.head()"
      ],
      "execution_count": 0,
      "outputs": []
    },
    {
      "cell_type": "code",
      "metadata": {
        "id": "VXzUDBD1-oPa",
        "colab_type": "code",
        "colab": {}
      },
      "source": [
        "temp_data = data['temperature']\n",
        "temp_data.index = data['Index']"
      ],
      "execution_count": 0,
      "outputs": []
    },
    {
      "cell_type": "code",
      "metadata": {
        "id": "OWe1eyfBARRC",
        "colab_type": "code",
        "colab": {}
      },
      "source": [
        "#Split the dataset and get mean, standard deviation, and then standardize the temperature data\n",
        "\n",
        "split = 20000\n",
        "temp_data = temp_data.values\n",
        "\n",
        "temp_mean = temp_data[:split].mean()\n",
        "temp_stdv = temp_data[:split].std()\n",
        "temp_std = (temp_data - temp_mean) / temp_stdv\n"
      ],
      "execution_count": 0,
      "outputs": []
    },
    {
      "cell_type": "code",
      "metadata": {
        "id": "fjghEcTcCpzt",
        "colab_type": "code",
        "colab": {}
      },
      "source": [
        "past_data = 19000\n",
        "target_data = 0\n",
        "\n",
        "data = []\n",
        "labels = []\n",
        "\n",
        "start_index = 0 + past_data\n",
        "end_index = split\n",
        "\n",
        "for i in range(start_index, end_index):\n",
        "  index = range(i-past_data, i)\n",
        "  data.append(np.reshape(temp_std[index], (past_data, 1)))\n",
        "  labels.append(temp_std[i+target_data])\n",
        "x,y = np.array(data), np.array(labels)"
      ],
      "execution_count": 0,
      "outputs": []
    },
    {
      "cell_type": "code",
      "metadata": {
        "id": "Z4NuERaA8BCb",
        "colab_type": "code",
        "colab": {}
      },
      "source": [
        "def create_time_steps(length):\n",
        "  return list(range(-length, 0))"
      ],
      "execution_count": 0,
      "outputs": []
    },
    {
      "cell_type": "code",
      "metadata": {
        "id": "Z-DJplWSJkv4",
        "colab_type": "code",
        "colab": {}
      },
      "source": [
        "plot_data = [x[0],y[0]]\n",
        "delta = 0\n",
        "labels = ['Previous data', 'Next Real Data', 'Model Prediction']\n",
        "marker = ['.-', 'rx', 'go']\n",
        "time_steps = create_time_steps(plot_data[0].shape[0])\n",
        "if delta:\n",
        "  future = delta\n",
        "else:\n",
        "  future = 0\n",
        "\n",
        "plt.title(\"Sample Example\")\n",
        "\n",
        "for i, xe in enumerate(plot_data):\n",
        "  if i:\n",
        "    plt.plot(future, plot_data[i], marker[i], markersize=10, label=labels[i])\n",
        "  else:\n",
        "    plt.plot(time_steps, plot_data[i].flatten(), marker[i], label=labels[i])\n",
        "plt.legend()\n",
        "plt.xlim([time_steps[0], (future+5)*2])\n",
        "plt.xlabel('Time-Step')\n",
        "#View the last point if previous data and the next real data : convert back to original value\n",
        "#print(((plot_data[0].flatten()[19])*temp_stdv) + temp_mean)\n",
        "#print(((plot_data[1])*temp_stdv) + temp_mean)"
      ],
      "execution_count": 0,
      "outputs": []
    },
    {
      "cell_type": "code",
      "metadata": {
        "colab_type": "code",
        "id": "VCNIZnk_wR0U",
        "colab": {}
      },
      "source": [
        "def baseline(history):\n",
        "  return np.mean(history)"
      ],
      "execution_count": 0,
      "outputs": []
    },
    {
      "cell_type": "code",
      "metadata": {
        "id": "aVFiccC61PiT",
        "colab_type": "code",
        "colab": {}
      },
      "source": [
        "train_univariate = tf.data.Dataset.from_tensor_slices((x, y))\n",
        "train_univariate = train_univariate.cache().shuffle(256).batch(10000).repeat()\n",
        "val_univariate = tf.data.Dataset.from_tensor_slices((x, y))\n",
        "val_univariate = val_univariate.batch(256).repeat()\n",
        "\n",
        "lstm = tf.keras.models.Sequential([tf.keras.layers.LSTM(8, input_shape=x.shape[-2:]), tf.keras.layers.Dense(1)])\n",
        "lstm.compile(optimizer='adam', loss='mae')"
      ],
      "execution_count": 0,
      "outputs": []
    },
    {
      "cell_type": "code",
      "metadata": {
        "id": "O1DydsoW3Z1V",
        "colab_type": "code",
        "outputId": "2aea4510-ada0-4294-c126-516d6f3ede05",
        "colab": {
          "base_uri": "https://localhost:8080/",
          "height": 51
        }
      },
      "source": [
        "EVALUATION_INTERVAL = 30\n",
        "EPOCHS = 3\n",
        "\n",
        "lstm.fit(train_univariate, epochs=EPOCHS, steps_per_epoch=EVALUATION_INTERVAL, validation_data=val_univariate, validation_steps=50)"
      ],
      "execution_count": 18,
      "outputs": [
        {
          "output_type": "stream",
          "text": [
            "30/30 [==============================] - 756s 25s/step - loss: 0.2104 - val_loss: 0.2035\n"
          ],
          "name": "stdout"
        },
        {
          "output_type": "execute_result",
          "data": {
            "text/plain": [
              "<tensorflow.python.keras.callbacks.History at 0x7f95703c0748>"
            ]
          },
          "metadata": {
            "tags": []
          },
          "execution_count": 18
        }
      ]
    },
    {
      "cell_type": "code",
      "metadata": {
        "id": "WUzv_bdS3lBl",
        "colab_type": "code",
        "outputId": "7428d606-34b4-4dac-9104-a63ee4e34cd5",
        "colab": {
          "base_uri": "https://localhost:8080/",
          "height": 312
        }
      },
      "source": [
        "for xx, yy in val_univariate.take(1):\n",
        "  plot_data = [xx[0].numpy(), yy[0].numpy(), lstm.predict(xx)[0]]\n",
        "  delta = 0\n",
        "  labels = ['Previous values', 'Next Real value', 'Predicted value']\n",
        "  marker = ['.-', 'rx', 'go']\n",
        "  time_steps = create_time_steps(plot_data[0].shape[0])\n",
        "  tymstp = time_steps\n",
        "  if delta:\n",
        "    future = delta\n",
        "  else:\n",
        "    future = 0\n",
        "  flatend_data = plot_data[0].flatten()\n",
        "\n",
        "  plt.title(\"LSTM Model\")\n",
        "  plt.plot(tymstp[-10:], flatend_data[-10:], marker[0], label=labels[0])\n",
        "  plt.plot(future, plot_data[1], marker[1], markersize=10, label=labels[1])\n",
        "  plt.plot(future, plot_data[2], marker[2], markersize=10, label=labels[2])  \n",
        "  #plt.legend()\n",
        "  plt.xlim([time_steps[0], (future+5)*2])\n",
        "  plt.xlabel('Time-Step')\n",
        "  print(plot_data[1],plot_data[2])"
      ],
      "execution_count": 43,
      "outputs": [
        {
          "output_type": "stream",
          "text": [
            "1.2126077996622384 [1.2033387]\n"
          ],
          "name": "stdout"
        },
        {
          "output_type": "display_data",
          "data": {
            "image/png": "[encoded data removed]",
            "text/plain": [
              "<Figure size 432x288 with 1 Axes>"
            ]
          },
          "metadata": {
            "tags": [],
            "needs_background": "light"
          }
        }
      ]
    },
    {
      "cell_type": "code",
      "metadata": {
        "id": "C4RpzdTMXXvB",
        "colab_type": "code",
        "outputId": "46a1e308-8a31-43bd-b981-7aae54760386",
        "colab": {
          "base_uri": "https://localhost:8080/",
          "height": 68
        }
      },
      "source": [
        "std_real_future = plot_data[1]\n",
        "std_pred_future = plot_data[2][0]\n",
        "#convert standardized value back to temperature\n",
        "actual = abs((std_real_future * temp_stdv)+temp_mean)\n",
        "predicted = abs((std_pred_future * temp_stdv)+temp_mean)\n",
        "error = abs(round(((actual - predicted) / actual)*100,2))\n",
        "print(\"Actual    :\",round(actual,2),\"°C\")\n",
        "print(\"Predicted :\",round(predicted,2),\"°C\")\n",
        "print(\"Error     :\",error,\"%\")"
      ],
      "execution_count": 41,
      "outputs": [
        {
          "output_type": "stream",
          "text": [
            "Actual    : 35.0 °C\n",
            "Predicted : 34.92 °C\n",
            "Error     : 0.22 %\n"
          ],
          "name": "stdout"
        }
      ]
    },
    {
      "cell_type": "code",
      "metadata": {
        "id": "5nFh7MAYX29w",
        "colab_type": "code",
        "colab": {
          "base_uri": "https://localhost:8080/",
          "height": 170
        },
        "outputId": "92251add-e066-4cc0-f66b-a9d3dd17b886"
      },
      "source": [
        "import tempfile\n",
        "import os\n",
        "\n",
        "MODEL_DIR = \"/content/\"\n",
        "version = 1\n",
        "export_path = os.path.join(MODEL_DIR, str(version))\n",
        "print('export_path = {}\\n'.format(export_path))\n",
        "\n",
        "tf.keras.models.save_model(\n",
        "    lstm,\n",
        "    export_path,\n",
        "    overwrite=True,\n",
        "    include_optimizer=True,\n",
        "    save_format=None,\n",
        "    signatures=None,\n",
        "    options=None\n",
        ")\n",
        "\n",
        "print('\\nSaved model:')\n",
        "!ls -l {export_path}"
      ],
      "execution_count": 21,
      "outputs": [
        {
          "output_type": "stream",
          "text": [
            "export_path = /content/1\n",
            "\n",
            "INFO:tensorflow:Assets written to: /content/1/assets\n",
            "\n",
            "Saved model:\n",
            "total 832\n",
            "drwxr-xr-x 2 root root   4096 Jun  2 09:05 assets\n",
            "-rw-r--r-- 1 root root 842527 Jun  2 09:48 saved_model.pb\n",
            "drwxr-xr-x 2 root root   4096 Jun  2 09:48 variables\n"
          ],
          "name": "stdout"
        }
      ]
    },
    {
      "cell_type": "code",
      "metadata": {
        "id": "nZRV6KIIRyIJ",
        "colab_type": "code",
        "colab": {
          "base_uri": "https://localhost:8080/",
          "height": 68
        },
        "outputId": "982b99e7-a9e6-4e14-a162-58c2bfb2af64"
      },
      "source": [
        "!zip model_3.zip 1/*"
      ],
      "execution_count": 22,
      "outputs": [
        {
          "output_type": "stream",
          "text": [
            "  adding: 1/assets/ (stored 0%)\n",
            "  adding: 1/saved_model.pb (deflated 90%)\n",
            "  adding: 1/variables/ (stored 0%)\n"
          ],
          "name": "stdout"
        }
      ]
    }
  ]
}